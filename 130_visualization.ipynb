{
  "nbformat": 4,
  "nbformat_minor": 0,
  "metadata": {
    "jupytext": {
      "formats": "ipynb,md"
    },
    "kernelspec": {
      "display_name": "Python 3",
      "language": "python",
      "name": "python3"
    },
    "language_info": {
      "codemirror_mode": {
        "name": "ipython",
        "version": 3
      },
      "file_extension": ".py",
      "mimetype": "text/x-python",
      "name": "python",
      "nbconvert_exporter": "python",
      "pygments_lexer": "ipython3",
      "version": "3.6.7"
    },
    "colab": {
      "name": "130_visualization.ipynb",
      "provenance": [],
      "toc_visible": true,
      "include_colab_link": true
    }
  },
  "cells": [
    {
      "cell_type": "markdown",
      "metadata": {
        "id": "view-in-github",
        "colab_type": "text"
      },
      "source": [
        "<a href=\"https://colab.research.google.com/github/quarcs-lab/pysal-datasets/blob/master/130_visualization.ipynb\" target=\"_parent\"><img src=\"https://colab.research.google.com/assets/colab-badge.svg\" alt=\"Open In Colab\"/></a>"
      ]
    },
    {
      "cell_type": "markdown",
      "metadata": {
        "id": "-EAF7fDKwxpk",
        "colab_type": "text"
      },
      "source": [
        "# Visualisation"
      ]
    },
    {
      "cell_type": "code",
      "metadata": {
        "id": "dGhPApPMw-zY",
        "colab_type": "code",
        "colab": {}
      },
      "source": [
        "! pip install -q geopandas"
      ],
      "execution_count": 2,
      "outputs": []
    },
    {
      "cell_type": "code",
      "metadata": {
        "id": "k4QhioHqxWUw",
        "colab_type": "code",
        "colab": {}
      },
      "source": [
        "! pip install -q contextily"
      ],
      "execution_count": 4,
      "outputs": []
    },
    {
      "cell_type": "code",
      "metadata": {
        "id": "G14nUuwqwxpl",
        "colab_type": "code",
        "colab": {
          "base_uri": "https://localhost:8080/",
          "height": 72
        },
        "outputId": "314a1ef0-fdba-4d17-d8e7-8dabe0bcbfbb"
      },
      "source": [
        "%matplotlib inline\n",
        "\n",
        "import geopandas\n",
        "import seaborn\n",
        "import contextily\n",
        "import matplotlib.pyplot as plt\n",
        "import pandas\n",
        "\n"
      ],
      "execution_count": 5,
      "outputs": [
        {
          "output_type": "stream",
          "text": [
            "/usr/local/lib/python3.6/dist-packages/statsmodels/tools/_testing.py:19: FutureWarning: pandas.util.testing is deprecated. Use the functions in the public API at pandas.testing instead.\n",
            "  import pandas.util.testing as tm\n"
          ],
          "name": "stderr"
        }
      ]
    },
    {
      "cell_type": "code",
      "metadata": {
        "id": "SuUPLHT2w7xR",
        "colab_type": "code",
        "colab": {}
      },
      "source": [
        "# From: https://github.com/sjsrey/pysalnarsc19/tree/master/content/data\n",
        "# db = geopandas.read_file('data/texas.shp')"
      ],
      "execution_count": 8,
      "outputs": []
    },
    {
      "cell_type": "code",
      "metadata": {
        "id": "vixO3E821SMU",
        "colab_type": "code",
        "colab": {
          "base_uri": "https://localhost:8080/",
          "height": 191
        },
        "outputId": "3008f55e-4c4e-48ec-ca33-f18ad5e8ffd5"
      },
      "source": [
        "# Clone entire Github repository\n",
        "!git clone -l -s git://github.com/quarcs-lab/pysal-datasets.git cloned-repo\n",
        "# Change working directory to cloned-repo\n",
        "%cd cloned-repo\n",
        "# Show contents of repo\n",
        "#!ls"
      ],
      "execution_count": 10,
      "outputs": [
        {
          "output_type": "stream",
          "text": [
            "Cloning into 'cloned-repo'...\n",
            "warning: --local is ignored\n",
            "remote: Enumerating objects: 36, done.\u001b[K\n",
            "remote: Counting objects: 100% (36/36), done.\u001b[K\n",
            "remote: Compressing objects: 100% (31/31), done.\u001b[K\n",
            "remote: Total 1710 (delta 8), reused 21 (delta 4), pack-reused 1674\u001b[K\n",
            "Receiving objects: 100% (1710/1710), 187.91 MiB | 23.22 MiB/s, done.\n",
            "Resolving deltas: 100% (639/639), done.\n",
            "Checking out files: 100% (2806/2806), done.\n",
            "/content/cloned-repo/cloned-repo\n"
          ],
          "name": "stdout"
        }
      ]
    },
    {
      "cell_type": "code",
      "metadata": {
        "id": "DT9jsBSM2p-M",
        "colab_type": "code",
        "colab": {}
      },
      "source": [
        "db = geopandas.read_file('texas/texas.shp')"
      ],
      "execution_count": 11,
      "outputs": []
    },
    {
      "cell_type": "code",
      "metadata": {
        "id": "8Ptbw_YU27_5",
        "colab_type": "code",
        "colab": {
          "base_uri": "https://localhost:8080/",
          "height": 569
        },
        "outputId": "f3823127-e302-465a-8144-8dfa27652029"
      },
      "source": [
        "db.head()"
      ],
      "execution_count": 12,
      "outputs": [
        {
          "output_type": "execute_result",
          "data": {
            "text/html": [
              "<div>\n",
              "<style scoped>\n",
              "    .dataframe tbody tr th:only-of-type {\n",
              "        vertical-align: middle;\n",
              "    }\n",
              "\n",
              "    .dataframe tbody tr th {\n",
              "        vertical-align: top;\n",
              "    }\n",
              "\n",
              "    .dataframe thead th {\n",
              "        text-align: right;\n",
              "    }\n",
              "</style>\n",
              "<table border=\"1\" class=\"dataframe\">\n",
              "  <thead>\n",
              "    <tr style=\"text-align: right;\">\n",
              "      <th></th>\n",
              "      <th>NAME</th>\n",
              "      <th>STATE_NAME</th>\n",
              "      <th>STATE_FIPS</th>\n",
              "      <th>CNTY_FIPS</th>\n",
              "      <th>FIPS</th>\n",
              "      <th>STFIPS</th>\n",
              "      <th>COFIPS</th>\n",
              "      <th>FIPSNO</th>\n",
              "      <th>SOUTH</th>\n",
              "      <th>HR60</th>\n",
              "      <th>HR70</th>\n",
              "      <th>HR80</th>\n",
              "      <th>HR90</th>\n",
              "      <th>HC60</th>\n",
              "      <th>HC70</th>\n",
              "      <th>HC80</th>\n",
              "      <th>HC90</th>\n",
              "      <th>PO60</th>\n",
              "      <th>PO70</th>\n",
              "      <th>PO80</th>\n",
              "      <th>PO90</th>\n",
              "      <th>RD60</th>\n",
              "      <th>RD70</th>\n",
              "      <th>RD80</th>\n",
              "      <th>RD90</th>\n",
              "      <th>PS60</th>\n",
              "      <th>PS70</th>\n",
              "      <th>PS80</th>\n",
              "      <th>PS90</th>\n",
              "      <th>UE60</th>\n",
              "      <th>UE70</th>\n",
              "      <th>UE80</th>\n",
              "      <th>UE90</th>\n",
              "      <th>DV60</th>\n",
              "      <th>DV70</th>\n",
              "      <th>DV80</th>\n",
              "      <th>DV90</th>\n",
              "      <th>MA60</th>\n",
              "      <th>MA70</th>\n",
              "      <th>MA80</th>\n",
              "      <th>MA90</th>\n",
              "      <th>POL60</th>\n",
              "      <th>POL70</th>\n",
              "      <th>POL80</th>\n",
              "      <th>POL90</th>\n",
              "      <th>DNL60</th>\n",
              "      <th>DNL70</th>\n",
              "      <th>DNL80</th>\n",
              "      <th>DNL90</th>\n",
              "      <th>MFIL59</th>\n",
              "      <th>MFIL69</th>\n",
              "      <th>MFIL79</th>\n",
              "      <th>MFIL89</th>\n",
              "      <th>FP59</th>\n",
              "      <th>FP69</th>\n",
              "      <th>FP79</th>\n",
              "      <th>FP89</th>\n",
              "      <th>BLK60</th>\n",
              "      <th>BLK70</th>\n",
              "      <th>BLK80</th>\n",
              "      <th>BLK90</th>\n",
              "      <th>GI59</th>\n",
              "      <th>GI69</th>\n",
              "      <th>GI79</th>\n",
              "      <th>GI89</th>\n",
              "      <th>FH60</th>\n",
              "      <th>FH70</th>\n",
              "      <th>FH80</th>\n",
              "      <th>FH90</th>\n",
              "      <th>geometry</th>\n",
              "    </tr>\n",
              "  </thead>\n",
              "  <tbody>\n",
              "    <tr>\n",
              "      <th>0</th>\n",
              "      <td>Lipscomb</td>\n",
              "      <td>Texas</td>\n",
              "      <td>48</td>\n",
              "      <td>295</td>\n",
              "      <td>48295</td>\n",
              "      <td>48</td>\n",
              "      <td>295</td>\n",
              "      <td>48295</td>\n",
              "      <td>1</td>\n",
              "      <td>0.0</td>\n",
              "      <td>0.000000</td>\n",
              "      <td>0.000000</td>\n",
              "      <td>0.000000</td>\n",
              "      <td>0.0</td>\n",
              "      <td>0.000000</td>\n",
              "      <td>0.000000</td>\n",
              "      <td>0.000000</td>\n",
              "      <td>3406</td>\n",
              "      <td>3486</td>\n",
              "      <td>3766</td>\n",
              "      <td>3143</td>\n",
              "      <td>-0.917852</td>\n",
              "      <td>-0.602338</td>\n",
              "      <td>-0.355503</td>\n",
              "      <td>-0.605607</td>\n",
              "      <td>-1.514026</td>\n",
              "      <td>-1.449058</td>\n",
              "      <td>-1.476411</td>\n",
              "      <td>-1.571799</td>\n",
              "      <td>2.0</td>\n",
              "      <td>1.7</td>\n",
              "      <td>1.941176</td>\n",
              "      <td>1.732852</td>\n",
              "      <td>1.494886</td>\n",
              "      <td>2.270948</td>\n",
              "      <td>3.516484</td>\n",
              "      <td>6.101695</td>\n",
              "      <td>32.4</td>\n",
              "      <td>34.3</td>\n",
              "      <td>31.0</td>\n",
              "      <td>35.8</td>\n",
              "      <td>8.133294</td>\n",
              "      <td>8.156510</td>\n",
              "      <td>8.233769</td>\n",
              "      <td>8.052933</td>\n",
              "      <td>1.293817</td>\n",
              "      <td>1.317034</td>\n",
              "      <td>1.395364</td>\n",
              "      <td>1.215386</td>\n",
              "      <td>8.531885</td>\n",
              "      <td>8.970432</td>\n",
              "      <td>9.802064</td>\n",
              "      <td>10.252241</td>\n",
              "      <td>22.4</td>\n",
              "      <td>12.1</td>\n",
              "      <td>10.851263</td>\n",
              "      <td>9.140370</td>\n",
              "      <td>0.029360</td>\n",
              "      <td>0.028686</td>\n",
              "      <td>0.026553</td>\n",
              "      <td>0.031817</td>\n",
              "      <td>0.286929</td>\n",
              "      <td>0.378219</td>\n",
              "      <td>0.407005</td>\n",
              "      <td>0.373005</td>\n",
              "      <td>6.724512</td>\n",
              "      <td>4.5</td>\n",
              "      <td>3.835360</td>\n",
              "      <td>6.093580</td>\n",
              "      <td>POLYGON ((-100.00687 36.49388, -100.00114 36.4...</td>\n",
              "    </tr>\n",
              "    <tr>\n",
              "      <th>1</th>\n",
              "      <td>Sherman</td>\n",
              "      <td>Texas</td>\n",
              "      <td>48</td>\n",
              "      <td>421</td>\n",
              "      <td>48421</td>\n",
              "      <td>48</td>\n",
              "      <td>421</td>\n",
              "      <td>48421</td>\n",
              "      <td>1</td>\n",
              "      <td>0.0</td>\n",
              "      <td>18.229879</td>\n",
              "      <td>10.501995</td>\n",
              "      <td>0.000000</td>\n",
              "      <td>0.0</td>\n",
              "      <td>0.666667</td>\n",
              "      <td>0.333333</td>\n",
              "      <td>0.000000</td>\n",
              "      <td>2605</td>\n",
              "      <td>3657</td>\n",
              "      <td>3174</td>\n",
              "      <td>2858</td>\n",
              "      <td>-1.113594</td>\n",
              "      <td>-1.081211</td>\n",
              "      <td>-0.492131</td>\n",
              "      <td>-0.519201</td>\n",
              "      <td>-1.714700</td>\n",
              "      <td>-1.407486</td>\n",
              "      <td>-1.597010</td>\n",
              "      <td>-1.635240</td>\n",
              "      <td>3.6</td>\n",
              "      <td>3.6</td>\n",
              "      <td>1.230349</td>\n",
              "      <td>3.343239</td>\n",
              "      <td>2.297593</td>\n",
              "      <td>2.511774</td>\n",
              "      <td>3.807947</td>\n",
              "      <td>5.968779</td>\n",
              "      <td>29.6</td>\n",
              "      <td>26.3</td>\n",
              "      <td>31.7</td>\n",
              "      <td>34.4</td>\n",
              "      <td>7.865188</td>\n",
              "      <td>8.204398</td>\n",
              "      <td>8.062748</td>\n",
              "      <td>7.957877</td>\n",
              "      <td>1.045172</td>\n",
              "      <td>1.384382</td>\n",
              "      <td>1.235227</td>\n",
              "      <td>1.130140</td>\n",
              "      <td>8.666130</td>\n",
              "      <td>9.038840</td>\n",
              "      <td>9.854087</td>\n",
              "      <td>10.178274</td>\n",
              "      <td>20.1</td>\n",
              "      <td>7.7</td>\n",
              "      <td>8.459870</td>\n",
              "      <td>10.761790</td>\n",
              "      <td>0.000000</td>\n",
              "      <td>0.464862</td>\n",
              "      <td>0.126024</td>\n",
              "      <td>0.139958</td>\n",
              "      <td>0.288976</td>\n",
              "      <td>0.359377</td>\n",
              "      <td>0.415453</td>\n",
              "      <td>0.378041</td>\n",
              "      <td>5.665722</td>\n",
              "      <td>1.7</td>\n",
              "      <td>3.253796</td>\n",
              "      <td>3.869407</td>\n",
              "      <td>POLYGON ((-102.16757 36.05463, -102.16522 36.4...</td>\n",
              "    </tr>\n",
              "    <tr>\n",
              "      <th>2</th>\n",
              "      <td>Dallam</td>\n",
              "      <td>Texas</td>\n",
              "      <td>48</td>\n",
              "      <td>111</td>\n",
              "      <td>48111</td>\n",
              "      <td>48</td>\n",
              "      <td>111</td>\n",
              "      <td>48111</td>\n",
              "      <td>1</td>\n",
              "      <td>0.0</td>\n",
              "      <td>11.088933</td>\n",
              "      <td>5.103864</td>\n",
              "      <td>18.311665</td>\n",
              "      <td>0.0</td>\n",
              "      <td>0.666667</td>\n",
              "      <td>0.333333</td>\n",
              "      <td>1.000000</td>\n",
              "      <td>6302</td>\n",
              "      <td>6012</td>\n",
              "      <td>6531</td>\n",
              "      <td>5461</td>\n",
              "      <td>-0.470982</td>\n",
              "      <td>-0.175927</td>\n",
              "      <td>0.139469</td>\n",
              "      <td>0.258405</td>\n",
              "      <td>-1.200047</td>\n",
              "      <td>-1.204341</td>\n",
              "      <td>-1.234283</td>\n",
              "      <td>-1.338314</td>\n",
              "      <td>2.4</td>\n",
              "      <td>4.5</td>\n",
              "      <td>2.239602</td>\n",
              "      <td>2.276423</td>\n",
              "      <td>3.446752</td>\n",
              "      <td>3.973820</td>\n",
              "      <td>4.849785</td>\n",
              "      <td>8.396560</td>\n",
              "      <td>31.3</td>\n",
              "      <td>30.2</td>\n",
              "      <td>29.0</td>\n",
              "      <td>32.6</td>\n",
              "      <td>8.748622</td>\n",
              "      <td>8.701513</td>\n",
              "      <td>8.784315</td>\n",
              "      <td>8.605387</td>\n",
              "      <td>1.439410</td>\n",
              "      <td>1.392300</td>\n",
              "      <td>1.467435</td>\n",
              "      <td>1.288972</td>\n",
              "      <td>8.454466</td>\n",
              "      <td>8.861208</td>\n",
              "      <td>9.571784</td>\n",
              "      <td>10.062285</td>\n",
              "      <td>29.9</td>\n",
              "      <td>14.7</td>\n",
              "      <td>14.922907</td>\n",
              "      <td>15.994962</td>\n",
              "      <td>0.920343</td>\n",
              "      <td>1.829674</td>\n",
              "      <td>2.526412</td>\n",
              "      <td>2.050906</td>\n",
              "      <td>0.331667</td>\n",
              "      <td>0.385996</td>\n",
              "      <td>0.370037</td>\n",
              "      <td>0.376015</td>\n",
              "      <td>7.546049</td>\n",
              "      <td>7.2</td>\n",
              "      <td>9.471366</td>\n",
              "      <td>14.231738</td>\n",
              "      <td>POLYGON ((-102.16757 36.05463, -103.02356 36.0...</td>\n",
              "    </tr>\n",
              "    <tr>\n",
              "      <th>3</th>\n",
              "      <td>Hansford</td>\n",
              "      <td>Texas</td>\n",
              "      <td>48</td>\n",
              "      <td>195</td>\n",
              "      <td>48195</td>\n",
              "      <td>48</td>\n",
              "      <td>195</td>\n",
              "      <td>48195</td>\n",
              "      <td>1</td>\n",
              "      <td>0.0</td>\n",
              "      <td>0.000000</td>\n",
              "      <td>0.000000</td>\n",
              "      <td>0.000000</td>\n",
              "      <td>0.0</td>\n",
              "      <td>0.000000</td>\n",
              "      <td>0.000000</td>\n",
              "      <td>0.000000</td>\n",
              "      <td>6208</td>\n",
              "      <td>6351</td>\n",
              "      <td>6209</td>\n",
              "      <td>5848</td>\n",
              "      <td>-1.248299</td>\n",
              "      <td>-0.896143</td>\n",
              "      <td>-0.684286</td>\n",
              "      <td>-0.521268</td>\n",
              "      <td>-1.039568</td>\n",
              "      <td>-0.999173</td>\n",
              "      <td>-1.109016</td>\n",
              "      <td>-1.132594</td>\n",
              "      <td>1.0</td>\n",
              "      <td>3.8</td>\n",
              "      <td>1.818806</td>\n",
              "      <td>4.007634</td>\n",
              "      <td>2.479733</td>\n",
              "      <td>3.466907</td>\n",
              "      <td>4.626027</td>\n",
              "      <td>6.238185</td>\n",
              "      <td>25.6</td>\n",
              "      <td>27.5</td>\n",
              "      <td>29.9</td>\n",
              "      <td>32.9</td>\n",
              "      <td>8.733594</td>\n",
              "      <td>8.756368</td>\n",
              "      <td>8.733755</td>\n",
              "      <td>8.673855</td>\n",
              "      <td>1.923452</td>\n",
              "      <td>1.946225</td>\n",
              "      <td>1.908512</td>\n",
              "      <td>1.849590</td>\n",
              "      <td>8.686261</td>\n",
              "      <td>9.041093</td>\n",
              "      <td>9.958165</td>\n",
              "      <td>10.320585</td>\n",
              "      <td>15.1</td>\n",
              "      <td>8.2</td>\n",
              "      <td>8.371041</td>\n",
              "      <td>9.683313</td>\n",
              "      <td>0.112758</td>\n",
              "      <td>0.000000</td>\n",
              "      <td>0.032211</td>\n",
              "      <td>0.000000</td>\n",
              "      <td>0.253527</td>\n",
              "      <td>0.357813</td>\n",
              "      <td>0.393938</td>\n",
              "      <td>0.383924</td>\n",
              "      <td>7.591786</td>\n",
              "      <td>4.7</td>\n",
              "      <td>5.542986</td>\n",
              "      <td>7.125457</td>\n",
              "      <td>POLYGON ((-101.61950 36.05471, -101.62032 36.4...</td>\n",
              "    </tr>\n",
              "    <tr>\n",
              "      <th>4</th>\n",
              "      <td>Ochiltree</td>\n",
              "      <td>Texas</td>\n",
              "      <td>48</td>\n",
              "      <td>357</td>\n",
              "      <td>48357</td>\n",
              "      <td>48</td>\n",
              "      <td>357</td>\n",
              "      <td>48357</td>\n",
              "      <td>1</td>\n",
              "      <td>0.0</td>\n",
              "      <td>6.870019</td>\n",
              "      <td>10.429704</td>\n",
              "      <td>3.651767</td>\n",
              "      <td>0.0</td>\n",
              "      <td>0.666667</td>\n",
              "      <td>1.000000</td>\n",
              "      <td>0.333333</td>\n",
              "      <td>9380</td>\n",
              "      <td>9704</td>\n",
              "      <td>9588</td>\n",
              "      <td>9128</td>\n",
              "      <td>-1.565398</td>\n",
              "      <td>-1.125893</td>\n",
              "      <td>-1.330064</td>\n",
              "      <td>-0.463557</td>\n",
              "      <td>-0.720305</td>\n",
              "      <td>-0.688084</td>\n",
              "      <td>-0.792819</td>\n",
              "      <td>-0.819903</td>\n",
              "      <td>2.4</td>\n",
              "      <td>4.1</td>\n",
              "      <td>2.162044</td>\n",
              "      <td>4.874067</td>\n",
              "      <td>2.364439</td>\n",
              "      <td>3.163235</td>\n",
              "      <td>5.366528</td>\n",
              "      <td>7.104154</td>\n",
              "      <td>25.1</td>\n",
              "      <td>27.0</td>\n",
              "      <td>28.2</td>\n",
              "      <td>31.5</td>\n",
              "      <td>9.146335</td>\n",
              "      <td>9.180293</td>\n",
              "      <td>9.168268</td>\n",
              "      <td>9.119102</td>\n",
              "      <td>2.336193</td>\n",
              "      <td>2.370151</td>\n",
              "      <td>2.345090</td>\n",
              "      <td>2.297340</td>\n",
              "      <td>8.715388</td>\n",
              "      <td>9.153453</td>\n",
              "      <td>10.011490</td>\n",
              "      <td>10.317086</td>\n",
              "      <td>11.1</td>\n",
              "      <td>6.7</td>\n",
              "      <td>5.459240</td>\n",
              "      <td>10.735736</td>\n",
              "      <td>0.000000</td>\n",
              "      <td>0.000000</td>\n",
              "      <td>0.020859</td>\n",
              "      <td>0.021911</td>\n",
              "      <td>0.236998</td>\n",
              "      <td>0.352940</td>\n",
              "      <td>0.343949</td>\n",
              "      <td>0.374461</td>\n",
              "      <td>5.172414</td>\n",
              "      <td>4.0</td>\n",
              "      <td>4.758392</td>\n",
              "      <td>9.159159</td>\n",
              "      <td>POLYGON ((-101.08231 36.05626, -101.08967 36.4...</td>\n",
              "    </tr>\n",
              "  </tbody>\n",
              "</table>\n",
              "</div>"
            ],
            "text/plain": [
              "        NAME  ...                                           geometry\n",
              "0   Lipscomb  ...  POLYGON ((-100.00687 36.49388, -100.00114 36.4...\n",
              "1    Sherman  ...  POLYGON ((-102.16757 36.05463, -102.16522 36.4...\n",
              "2     Dallam  ...  POLYGON ((-102.16757 36.05463, -103.02356 36.0...\n",
              "3   Hansford  ...  POLYGON ((-101.61950 36.05471, -101.62032 36.4...\n",
              "4  Ochiltree  ...  POLYGON ((-101.08231 36.05626, -101.08967 36.4...\n",
              "\n",
              "[5 rows x 70 columns]"
            ]
          },
          "metadata": {
            "tags": []
          },
          "execution_count": 12
        }
      ]
    },
    {
      "cell_type": "markdown",
      "metadata": {
        "id": "_4p1MyKewxpq",
        "colab_type": "text"
      },
      "source": [
        "## Non-spatial visualisation"
      ]
    },
    {
      "cell_type": "markdown",
      "metadata": {
        "id": "sdsFR9kkwxpq",
        "colab_type": "text"
      },
      "source": [
        "### Univariate continuous"
      ]
    },
    {
      "cell_type": "markdown",
      "metadata": {
        "id": "KwA61A02wxpq",
        "colab_type": "text"
      },
      "source": [
        "* Histograms"
      ]
    },
    {
      "cell_type": "code",
      "metadata": {
        "id": "41zukYAxwxpr",
        "colab_type": "code",
        "colab": {
          "base_uri": "https://localhost:8080/",
          "height": 283
        },
        "outputId": "5a93891e-b390-4726-e049-bc16d063b31f"
      },
      "source": [
        "db['HR90'].plot.hist()"
      ],
      "execution_count": 13,
      "outputs": [
        {
          "output_type": "execute_result",
          "data": {
            "text/plain": [
              "<matplotlib.axes._subplots.AxesSubplot at 0x7f17c011be80>"
            ]
          },
          "metadata": {
            "tags": []
          },
          "execution_count": 13
        },
        {
          "output_type": "display_data",
          "data": {
            "image/png": "[encoded data removed]",
            "text/plain": [
              "<Figure size 432x288 with 1 Axes>"
            ]
          },
          "metadata": {
            "tags": [],
            "needs_background": "light"
          }
        }
      ]
    },
    {
      "cell_type": "markdown",
      "metadata": {
        "id": "A2hKmicwwxpu",
        "colab_type": "text"
      },
      "source": [
        "* KDEs"
      ]
    },
    {
      "cell_type": "code",
      "metadata": {
        "id": "sJBu24xdwxpv",
        "colab_type": "code",
        "colab": {
          "base_uri": "https://localhost:8080/",
          "height": 283
        },
        "outputId": "5f328be0-107e-4603-8151-889381ffd5bd"
      },
      "source": [
        "db['HR90'].plot.kde()"
      ],
      "execution_count": 14,
      "outputs": [
        {
          "output_type": "execute_result",
          "data": {
            "text/plain": [
              "<matplotlib.axes._subplots.AxesSubplot at 0x7f17c0134eb8>"
            ]
          },
          "metadata": {
            "tags": []
          },
          "execution_count": 14
        },
        {
          "output_type": "display_data",
          "data": {
            "image/png": "[encoded data removed]",
            "text/plain": [
              "<Figure size 432x288 with 1 Axes>"
            ]
          },
          "metadata": {
            "tags": [],
            "needs_background": "light"
          }
        }
      ]
    },
    {
      "cell_type": "markdown",
      "metadata": {
        "id": "PBlu6q6gwxpx",
        "colab_type": "text"
      },
      "source": [
        "### Bivariate continuous"
      ]
    },
    {
      "cell_type": "markdown",
      "metadata": {
        "id": "x4ximYTcwxpy",
        "colab_type": "text"
      },
      "source": [
        "* Scatter plots"
      ]
    },
    {
      "cell_type": "code",
      "metadata": {
        "id": "7xKc1yn1wxpy",
        "colab_type": "code",
        "colab": {
          "base_uri": "https://localhost:8080/",
          "height": 297
        },
        "outputId": "8c2579c8-7ee7-44a8-ce27-eaf0fdf371f9"
      },
      "source": [
        "db[['GI89', 'HR90']].plot.scatter('GI89', 'HR90')"
      ],
      "execution_count": 15,
      "outputs": [
        {
          "output_type": "execute_result",
          "data": {
            "text/plain": [
              "<matplotlib.axes._subplots.AxesSubplot at 0x7f17c0148978>"
            ]
          },
          "metadata": {
            "tags": []
          },
          "execution_count": 15
        },
        {
          "output_type": "display_data",
          "data": {
            "image/png": "[encoded data removed]",
            "text/plain": [
              "<Figure size 432x288 with 1 Axes>"
            ]
          },
          "metadata": {
            "tags": [],
            "needs_background": "light"
          }
        }
      ]
    },
    {
      "cell_type": "markdown",
      "metadata": {
        "id": "GNdrSiL2wxp1",
        "colab_type": "text"
      },
      "source": [
        "* Hexbin plots"
      ]
    },
    {
      "cell_type": "code",
      "metadata": {
        "id": "c406fCEkwxp1",
        "colab_type": "code",
        "colab": {
          "base_uri": "https://localhost:8080/",
          "height": 459
        },
        "outputId": "0079c3b4-6c04-4677-d75a-b76eabefaae1"
      },
      "source": [
        "seaborn.jointplot('GI89', \n",
        "                  'HR90', \n",
        "                  db, \n",
        "                  kind='hex')"
      ],
      "execution_count": 17,
      "outputs": [
        {
          "output_type": "execute_result",
          "data": {
            "text/plain": [
              "<seaborn.axisgrid.JointGrid at 0x7f17c00d29e8>"
            ]
          },
          "metadata": {
            "tags": []
          },
          "execution_count": 17
        },
        {
          "output_type": "display_data",
          "data": {
            "image/png": "[encoded data removed]",
            "text/plain": [
              "<Figure size 432x432 with 3 Axes>"
            ]
          },
          "metadata": {
            "tags": [],
            "needs_background": "light"
          }
        }
      ]
    },
    {
      "cell_type": "markdown",
      "metadata": {
        "id": "e010LfL8wxp3",
        "colab_type": "text"
      },
      "source": [
        "* 2D KDEs"
      ]
    },
    {
      "cell_type": "code",
      "metadata": {
        "id": "OtMk32Vywxp3",
        "colab_type": "code",
        "colab": {
          "base_uri": "https://localhost:8080/",
          "height": 459
        },
        "outputId": "3f46fe8e-a341-487e-f895-309a41be3e9c"
      },
      "source": [
        "seaborn.jointplot('GI89', \n",
        "                  'HR90', \n",
        "                  db, \n",
        "                  kind='kde')"
      ],
      "execution_count": 18,
      "outputs": [
        {
          "output_type": "execute_result",
          "data": {
            "text/plain": [
              "<seaborn.axisgrid.JointGrid at 0x7f17c010f2e8>"
            ]
          },
          "metadata": {
            "tags": []
          },
          "execution_count": 18
        },
        {
          "output_type": "display_data",
          "data": {
            "image/png": "[encoded data removed]",
            "text/plain": [
              "<Figure size 432x432 with 3 Axes>"
            ]
          },
          "metadata": {
            "tags": [],
            "needs_background": "light"
          }
        }
      ]
    },
    {
      "cell_type": "markdown",
      "metadata": {
        "id": "szMplUP5wxp6",
        "colab_type": "text"
      },
      "source": [
        "### Categorical plots"
      ]
    },
    {
      "cell_type": "markdown",
      "metadata": {
        "id": "PFihvEALwxp6",
        "colab_type": "text"
      },
      "source": [
        "* Categorical scatter plots"
      ]
    },
    {
      "cell_type": "code",
      "metadata": {
        "id": "x1yhFzQ3wxp7",
        "colab_type": "code",
        "colab": {
          "base_uri": "https://localhost:8080/",
          "height": 225
        },
        "outputId": "8c20faa2-4608-42df-d9c9-cf683ba496d6"
      },
      "source": [
        "db.PO90"
      ],
      "execution_count": 19,
      "outputs": [
        {
          "output_type": "execute_result",
          "data": {
            "text/plain": [
              "0        3143\n",
              "1        2858\n",
              "2        5461\n",
              "3        5848\n",
              "4        9128\n",
              "        ...  \n",
              "249       460\n",
              "250     40518\n",
              "251    383545\n",
              "252     17705\n",
              "253    260120\n",
              "Name: PO90, Length: 254, dtype: int64"
            ]
          },
          "metadata": {
            "tags": []
          },
          "execution_count": 19
        }
      ]
    },
    {
      "cell_type": "code",
      "metadata": {
        "id": "0mIY-cXNwxp9",
        "colab_type": "code",
        "colab": {}
      },
      "source": [
        "p90max = db.PO90.max()"
      ],
      "execution_count": 20,
      "outputs": []
    },
    {
      "cell_type": "code",
      "metadata": {
        "id": "fRN5thGSwxp-",
        "colab_type": "code",
        "colab": {}
      },
      "source": [
        "width = int(p90max/3)+2\n",
        "db['pop_cats'] = pandas.cut(db.PO90, [0, 5000, 100000, p90max])"
      ],
      "execution_count": 21,
      "outputs": []
    },
    {
      "cell_type": "code",
      "metadata": {
        "id": "uOObkfN2wxqA",
        "colab_type": "code",
        "colab": {
          "base_uri": "https://localhost:8080/",
          "height": 387
        },
        "outputId": "6eeeb7bb-4c63-4f34-9779-af9be0a73c47"
      },
      "source": [
        "seaborn.catplot(x=\"pop_cats\",\n",
        "                y=\"HR90\",\n",
        "                data=db)"
      ],
      "execution_count": 22,
      "outputs": [
        {
          "output_type": "execute_result",
          "data": {
            "text/plain": [
              "<seaborn.axisgrid.FacetGrid at 0x7f17c01128d0>"
            ]
          },
          "metadata": {
            "tags": []
          },
          "execution_count": 22
        },
        {
          "output_type": "display_data",
          "data": {
            "image/png": "[encoded data removed]",
            "text/plain": [
              "<Figure size 360x360 with 1 Axes>"
            ]
          },
          "metadata": {
            "tags": [],
            "needs_background": "light"
          }
        }
      ]
    },
    {
      "cell_type": "markdown",
      "metadata": {
        "id": "jkMkmnCTwxqE",
        "colab_type": "text"
      },
      "source": [
        "* Box plots"
      ]
    },
    {
      "cell_type": "code",
      "metadata": {
        "id": "xyiNqRBywxqF",
        "colab_type": "code",
        "colab": {
          "base_uri": "https://localhost:8080/",
          "height": 387
        },
        "outputId": "66bad024-e693-4153-f1f0-d24179155915"
      },
      "source": [
        "seaborn.catplot(x=\"pop_cats\",\n",
        "                y=\"HR90\",\n",
        "                data=db,\n",
        "                kind='box')"
      ],
      "execution_count": 23,
      "outputs": [
        {
          "output_type": "execute_result",
          "data": {
            "text/plain": [
              "<seaborn.axisgrid.FacetGrid at 0x7f17c0110b70>"
            ]
          },
          "metadata": {
            "tags": []
          },
          "execution_count": 23
        },
        {
          "output_type": "display_data",
          "data": {
            "image/png": "[encoded data removed]",
            "text/plain": [
              "<Figure size 360x360 with 1 Axes>"
            ]
          },
          "metadata": {
            "tags": [],
            "needs_background": "light"
          }
        }
      ]
    },
    {
      "cell_type": "markdown",
      "metadata": {
        "id": "4lCngBw8wxqH",
        "colab_type": "text"
      },
      "source": [
        "* Violin plots"
      ]
    },
    {
      "cell_type": "code",
      "metadata": {
        "id": "fin76lDPwxqI",
        "colab_type": "code",
        "colab": {
          "base_uri": "https://localhost:8080/",
          "height": 387
        },
        "outputId": "c9bccbbb-2def-404f-9a8a-c5f48f2551f6"
      },
      "source": [
        "seaborn.catplot(x=\"pop_cats\",\n",
        "                y=\"HR90\",\n",
        "                data=db,\n",
        "                kind='violin')"
      ],
      "execution_count": 24,
      "outputs": [
        {
          "output_type": "execute_result",
          "data": {
            "text/plain": [
              "<seaborn.axisgrid.FacetGrid at 0x7f17c0060278>"
            ]
          },
          "metadata": {
            "tags": []
          },
          "execution_count": 24
        },
        {
          "output_type": "display_data",
          "data": {
            "image/png": "[encoded data removed]",
            "text/plain": [
              "<Figure size 360x360 with 1 Axes>"
            ]
          },
          "metadata": {
            "tags": [],
            "needs_background": "light"
          }
        }
      ]
    },
    {
      "cell_type": "markdown",
      "metadata": {
        "id": "tIIrj79JwxqK",
        "colab_type": "text"
      },
      "source": [
        "## Anatomy of a graphic"
      ]
    },
    {
      "cell_type": "markdown",
      "metadata": {
        "id": "_fbF-eVZwxqK",
        "colab_type": "text"
      },
      "source": [
        "### Figures"
      ]
    },
    {
      "cell_type": "code",
      "metadata": {
        "id": "mC44y2AHwxqL",
        "colab_type": "code",
        "colab": {
          "base_uri": "https://localhost:8080/",
          "height": 35
        },
        "outputId": "6dc0c4bd-05b8-4f4a-81a6-7663bb105c6e"
      },
      "source": [
        "f = plt.figure()"
      ],
      "execution_count": 25,
      "outputs": [
        {
          "output_type": "display_data",
          "data": {
            "text/plain": [
              "<Figure size 432x288 with 0 Axes>"
            ]
          },
          "metadata": {
            "tags": []
          }
        }
      ]
    },
    {
      "cell_type": "markdown",
      "metadata": {
        "id": "IBh7SPpZwxqN",
        "colab_type": "text"
      },
      "source": [
        "* Change size"
      ]
    },
    {
      "cell_type": "code",
      "metadata": {
        "id": "DvEwxWVgwxqN",
        "colab_type": "code",
        "colab": {
          "base_uri": "https://localhost:8080/",
          "height": 35
        },
        "outputId": "3bd977b8-682a-48c3-a21e-2daeff1820ef"
      },
      "source": [
        "# Size\n",
        "f = plt.figure(figsize=(12, 12))"
      ],
      "execution_count": 26,
      "outputs": [
        {
          "output_type": "display_data",
          "data": {
            "text/plain": [
              "<Figure size 864x864 with 0 Axes>"
            ]
          },
          "metadata": {
            "tags": []
          }
        }
      ]
    },
    {
      "cell_type": "markdown",
      "metadata": {
        "id": "mGHtv5-YwxqQ",
        "colab_type": "text"
      },
      "source": [
        "### Axes"
      ]
    },
    {
      "cell_type": "markdown",
      "metadata": {
        "id": "4UZgQQ0jwxqR",
        "colab_type": "text"
      },
      "source": [
        "* One axis (`ax`) inside a figure (`f`)"
      ]
    },
    {
      "cell_type": "code",
      "metadata": {
        "id": "PUQflvgUwxqS",
        "colab_type": "code",
        "colab": {
          "base_uri": "https://localhost:8080/",
          "height": 269
        },
        "outputId": "a2df468e-1bdd-4395-ff82-b69594363705"
      },
      "source": [
        "f, ax = plt.subplots(1)"
      ],
      "execution_count": 27,
      "outputs": [
        {
          "output_type": "display_data",
          "data": {
            "image/png": "[encoded data removed]",
            "text/plain": [
              "<Figure size 432x288 with 1 Axes>"
            ]
          },
          "metadata": {
            "tags": [],
            "needs_background": "light"
          }
        }
      ]
    },
    {
      "cell_type": "markdown",
      "metadata": {
        "id": "IsZ9YNvAwxqV",
        "colab_type": "text"
      },
      "source": [
        "* Two rows, one column of axes (`axs`) inside a figure (`f`)"
      ]
    },
    {
      "cell_type": "code",
      "metadata": {
        "id": "PgRxdmoYwxqV",
        "colab_type": "code",
        "colab": {
          "base_uri": "https://localhost:8080/",
          "height": 269
        },
        "outputId": "1ef8e348-2809-4906-a4aa-098904b7bd74"
      },
      "source": [
        "f, axs = plt.subplots(2)"
      ],
      "execution_count": 28,
      "outputs": [
        {
          "output_type": "display_data",
          "data": {
            "image/png": "[encoded data removed]",
            "text/plain": [
              "<Figure size 432x288 with 2 Axes>"
            ]
          },
          "metadata": {
            "tags": [],
            "needs_background": "light"
          }
        }
      ]
    },
    {
      "cell_type": "markdown",
      "metadata": {
        "id": "QsSw9pGAwxqW",
        "colab_type": "text"
      },
      "source": [
        "* One row, two columns of axes (`axs`) inside a figure (`f`)"
      ]
    },
    {
      "cell_type": "code",
      "metadata": {
        "id": "FpC3LOVfwxqX",
        "colab_type": "code",
        "colab": {
          "base_uri": "https://localhost:8080/",
          "height": 269
        },
        "outputId": "c90306d6-8368-4a92-ecad-99ea4eef4c95"
      },
      "source": [
        "f, axs = plt.subplots(1, 2)"
      ],
      "execution_count": 29,
      "outputs": [
        {
          "output_type": "display_data",
          "data": {
            "image/png": "[encoded data removed]",
            "text/plain": [
              "<Figure size 432x288 with 2 Axes>"
            ]
          },
          "metadata": {
            "tags": [],
            "needs_background": "light"
          }
        }
      ]
    },
    {
      "cell_type": "markdown",
      "metadata": {
        "id": "BDXi209HwxqY",
        "colab_type": "text"
      },
      "source": [
        "* Embed data on an axis"
      ]
    },
    {
      "cell_type": "code",
      "metadata": {
        "id": "yGr9TLX2wxqZ",
        "colab_type": "code",
        "colab": {
          "base_uri": "https://localhost:8080/",
          "height": 283
        },
        "outputId": "ee66ed50-a887-4823-dc54-838dc105e822"
      },
      "source": [
        "f, ax = plt.subplots(1)\n",
        "db['HR90'].plot.hist()\n",
        "#db.plot(ax=ax)"
      ],
      "execution_count": 30,
      "outputs": [
        {
          "output_type": "execute_result",
          "data": {
            "text/plain": [
              "<matplotlib.axes._subplots.AxesSubplot at 0x7f17bffd07f0>"
            ]
          },
          "metadata": {
            "tags": []
          },
          "execution_count": 30
        },
        {
          "output_type": "display_data",
          "data": {
            "image/png": "[encoded data removed]",
            "text/plain": [
              "<Figure size 432x288 with 1 Axes>"
            ]
          },
          "metadata": {
            "tags": [],
            "needs_background": "light"
          }
        }
      ]
    },
    {
      "cell_type": "markdown",
      "metadata": {
        "id": "uJwIQCu1wxqb",
        "colab_type": "text"
      },
      "source": [
        "* Embed data on two axes"
      ]
    },
    {
      "cell_type": "code",
      "metadata": {
        "id": "nYQbjdiBwxqb",
        "colab_type": "code",
        "colab": {
          "base_uri": "https://localhost:8080/",
          "height": 417
        },
        "outputId": "b65f5006-f98c-43b7-ca91-7fb22d67c2eb"
      },
      "source": [
        "f, axs = plt.subplots(1, 2, figsize=(12, 6))\n",
        "# First axis\n",
        "\n",
        "db['HR90'].plot.hist(ax=axs[0])\n",
        "# Second axis\n",
        "db['HR90'].plot.kde(ax=axs[1])\n",
        "# Title\n",
        "f.suptitle(\"HR90\")\n",
        "# Display\n",
        "plt.show()"
      ],
      "execution_count": 31,
      "outputs": [
        {
          "output_type": "display_data",
          "data": {
            "image/png": "[encoded data removed]",
            "text/plain": [
              "<Figure size 864x432 with 2 Axes>"
            ]
          },
          "metadata": {
            "tags": [],
            "needs_background": "light"
          }
        }
      ]
    },
    {
      "cell_type": "markdown",
      "metadata": {
        "id": "CBf6q2rFwxqd",
        "colab_type": "text"
      },
      "source": [
        "### Layers"
      ]
    },
    {
      "cell_type": "markdown",
      "metadata": {
        "id": "S6mCzqi8wxqd",
        "colab_type": "text"
      },
      "source": [
        "* Tweak a layer"
      ]
    },
    {
      "cell_type": "code",
      "metadata": {
        "id": "86cz5pO9wxqe",
        "colab_type": "code",
        "colab": {
          "base_uri": "https://localhost:8080/",
          "height": 283
        },
        "outputId": "8f5aaf4a-0d3c-40e6-e816-671633b8e5c3"
      },
      "source": [
        "# Transparency\n",
        "db.HR90.plot.hist(alpha=0.5)"
      ],
      "execution_count": 32,
      "outputs": [
        {
          "output_type": "execute_result",
          "data": {
            "text/plain": [
              "<matplotlib.axes._subplots.AxesSubplot at 0x7f17bc77e9b0>"
            ]
          },
          "metadata": {
            "tags": []
          },
          "execution_count": 32
        },
        {
          "output_type": "display_data",
          "data": {
            "image/png": "[encoded data removed]",
            "text/plain": [
              "<Figure size 432x288 with 1 Axes>"
            ]
          },
          "metadata": {
            "tags": [],
            "needs_background": "light"
          }
        }
      ]
    },
    {
      "cell_type": "code",
      "metadata": {
        "id": "tmrJcp33wxqf",
        "colab_type": "code",
        "colab": {
          "base_uri": "https://localhost:8080/",
          "height": 283
        },
        "outputId": "567bb1dd-318c-4866-ddf7-47722f4f2ff2"
      },
      "source": [
        "# color and transparency\n",
        "db.HR90.plot.hist(alpha=0.5, color='green')"
      ],
      "execution_count": 33,
      "outputs": [
        {
          "output_type": "execute_result",
          "data": {
            "text/plain": [
              "<matplotlib.axes._subplots.AxesSubplot at 0x7f17bc753438>"
            ]
          },
          "metadata": {
            "tags": []
          },
          "execution_count": 33
        },
        {
          "output_type": "display_data",
          "data": {
            "image/png": "[encoded data removed]",
            "text/plain": [
              "<Figure size 432x288 with 1 Axes>"
            ]
          },
          "metadata": {
            "tags": [],
            "needs_background": "light"
          }
        }
      ]
    },
    {
      "cell_type": "markdown",
      "metadata": {
        "id": "uvTsSiR-wxqj",
        "colab_type": "text"
      },
      "source": [
        "---\n",
        "\n",
        "<a rel=\"license\" href=\"http://creativecommons.org/licenses/by-nc-\n",
        "sa/4.0/\"><img alt=\"Creative Commons License\" style=\"border-width:0\"\n",
        "src=\"https://i.creativecommons.org/l/by-nc-sa/4.0/88x31.png\" /></a><br /><span\n",
        "xmlns:dct=\"http://purl.org/dc/terms/\" property=\"dct:title\">Visualization</span> by <a xmlns:cc=\"http://creativecommons.org/ns#\"\n",
        "href=\"http://sergerey.org\" property=\"cc:attributionName\"\n",
        "rel=\"cc:attributionURL\">Serge Rey</a> is licensed under a <a\n",
        "rel=\"license\" href=\"http://creativecommons.org/licenses/by-nc-sa/4.0/\">Creative\n",
        "Commons Attribution-NonCommercial-ShareAlike 4.0 International License</a>."
      ]
    }
  ]
}